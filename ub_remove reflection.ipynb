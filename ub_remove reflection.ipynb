{
 "cells": [
  {
   "cell_type": "code",
   "execution_count": 1,
   "metadata": {},
   "outputs": [],
   "source": [
    "import os\n",
    "import glob\n",
    "import cv2\n",
    "import skimage.io\n",
    "from PIL import Image\n",
    "import numpy as np\n",
    "from skimage.io import imread\n",
    "from skimage.color import gray2rgb"
   ]
  },
  {
   "cell_type": "code",
   "execution_count": 2,
   "metadata": {},
   "outputs": [],
   "source": [
    "def recflection_remove(img):\n",
    "    ret, mask = cv2.threshold(img,200,250, cv2.THRESH_BINARY) # 二值化\n",
    "    kernel = np.ones((5, 5), np.uint8)                          # 构建算子\n",
    "    dilation = cv2.dilate(mask, kernel, iterations=1)           # 构建蒙版\n",
    "    dst = cv2.inpaint(img, dilation, 5, cv2.INPAINT_TELEA)      # FMM算法修复光点\n",
    "    return dst"
   ]
  },
  {
   "cell_type": "code",
   "execution_count": 3,
   "metadata": {},
   "outputs": [],
   "source": [
    "path='H:/ubirispart2'\n",
    "#path='I:/CASIA-Iris-Thousand/CASIA-Iris-Thousand/153/R'\n",
    "for img in os.listdir(path):\n",
    "        pathimage=os.path.join(path,img)\n",
    "        im=cv2.imread(pathimage)\n",
    "        im= cv2.cvtColor(im, cv2.COLOR_BGR2GRAY)\n",
    "        im= recflection_remove(im)\n",
    "        #im= cv2.medianBlur(im,5)\n",
    "        path2='I:/Input_output/ub/all_remove_reflection'\n",
    "        #path2='I:/CASIA-Iris-Thousand/CASIA-Iris-Thousand/365/R'\n",
    "        pathwrite=os.path.join(path2,img)\n",
    "        cv2.imwrite(pathwrite,im)"
   ]
  },
  {
   "cell_type": "code",
   "execution_count": null,
   "metadata": {},
   "outputs": [],
   "source": []
  }
 ],
 "metadata": {
  "kernelspec": {
   "display_name": "Python 3",
   "language": "python",
   "name": "python3"
  },
  "language_info": {
   "codemirror_mode": {
    "name": "ipython",
    "version": 3
   },
   "file_extension": ".py",
   "mimetype": "text/x-python",
   "name": "python",
   "nbconvert_exporter": "python",
   "pygments_lexer": "ipython3",
   "version": "3.7.3"
  }
 },
 "nbformat": 4,
 "nbformat_minor": 2
}
